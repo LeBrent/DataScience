{
 "cells": [
  {
   "cell_type": "markdown",
   "metadata": {},
   "source": [
    "*ADS-A Week 3 Assignment 1*\n",
    "\n",
    "# Basic Charts with Matplotlib"
   ]
  },
  {
   "cell_type": "markdown",
   "metadata": {},
   "source": [
    "## Matplotlib\n",
    "\n",
    "First, we import the required libraries, using standard conventions. We first import numpy for all our mathematical needs, then the matplotlib as plotting library and pyplot which gives an ease API to create plots with matplotlib."
   ]
  },
  {
   "cell_type": "code",
   "execution_count": null,
   "metadata": {},
   "outputs": [],
   "source": [
    "import numpy as np\n",
    "import matplotlib as mpl\n",
    "from matplotlib import pyplot as plt\n",
    "\n",
    "# we need the following line to indicate that the plots should be shown inline with the Jupyter notebook.\n",
    "%matplotlib inline "
   ]
  },
  {
   "cell_type": "markdown",
   "metadata": {},
   "source": [
    "We will first create a simple plot of a mathematical function. We first create a numpy array of x-values. Then for each x-value we create the y-value, i.e. the function value. Plotting this function is as easy as giving it the x and y values."
   ]
  },
  {
   "cell_type": "code",
   "execution_count": null,
   "metadata": {},
   "outputs": [],
   "source": [
    "X = np.linspace(-np.pi, np.pi, 100) # define a NumPy array with 100 points in the range -Pi to Pi\n",
    "Y = np.sin(X)  # define the curve Y by the sine of X\n",
    "\n",
    "plt.plot(X,Y); # use matplotlib to plot the function"
   ]
  },
  {
   "cell_type": "markdown",
   "metadata": {},
   "source": [
    "While creating such plots is perfectly fine when you are exploring data, in your final notebook the plot is hard to understand for the reader. With matplotlib it is very easy to add labels, a title and a legend. You can also change the limits of the plot, the style of the lines and much more.\n",
    "\n",
    "The following could be seen as the bare minimum for a plot to be understood as part of reproducible research."
   ]
  },
  {
   "cell_type": "code",
   "execution_count": null,
   "metadata": {},
   "outputs": [],
   "source": [
    "plt.plot(X, Y, 'r--', linewidth=2)\n",
    "plt.plot(X, Y/2, 'b-', linewidth=2)\n",
    "plt.xlabel('X axis')\n",
    "plt.ylabel('Y axis')\n",
    "plt.title('Plot Title')\n",
    "plt.xlim(-4, 4)\n",
    "plt.ylim(-1.2, 1.2)\n",
    "plt.legend(['red curve', 'blue curve'], loc='best')"
   ]
  },
  {
   "cell_type": "markdown",
   "metadata": {},
   "source": [
    "Go to the documentation pages of matplotlib [http://matplotlib.org/contents.html] to find all the possible options for a plot and also to see more tutorials, videos and book chapters to help you along the way.\n",
    "\n",
    "A few other nice tutorials:\n",
    "* [http://www.labri.fr/perso/nrougier/teaching/matplotlib/]"
   ]
  },
  {
   "cell_type": "markdown",
   "metadata": {},
   "source": [
    "This assignment first shows you how to download csv data from an online source. Then we're exploring a dataset of all the cities in the world and compare cities in The Netherlands to the rest of the world."
   ]
  },
  {
   "cell_type": "markdown",
   "metadata": {},
   "source": [
    "## Loading data CSV and Pandas\n",
    "We will work with a database of information about cities around the world:\n",
    "\n",
    "https://www.maxmind.com/en/free-world-cities-database\n",
    "\n",
    "Working with data structures can be done in many ways in Python. There are the standard Python arrays, lists and tuples. You can also use the arrays in the numpy package which allow you to do heavy math operations efficiently. For data analysis Pandas is often used, because data can be put into so-called dataframes. Dataframes store data with column and row names and can easily be manipulated and plotted. You will learn more about Pandas in the Machine Learning workshops. A short intro can be found here:\n",
    "\n",
    "http://pandas.pydata.org/pandas-docs/stable/10min.html"
   ]
  },
  {
   "cell_type": "code",
   "execution_count": 18,
   "metadata": {},
   "outputs": [],
   "source": [
    "import urllib.request as urllib, zipfile, os\n",
    "\n",
    "url = 'http://download.maxmind.com/download/worldcities/'\n",
    "filename = 'worldcitiespop.txt.gz'\n",
    "datafolder = 'data/'"
   ]
  },
  {
   "cell_type": "code",
   "execution_count": 19,
   "metadata": {},
   "outputs": [],
   "source": [
    "downloaded = urllib.urlopen(url + filename)\n",
    "buf = downloaded.read()\n",
    "\n",
    "try:\n",
    "    os.mkdir(datafolder)\n",
    "except FileExistsError:\n",
    "    pass\n",
    "\n",
    "with open(datafolder + filename, 'wb') as f:\n",
    "    f.write(buf)"
   ]
  },
  {
   "cell_type": "code",
   "execution_count": 20,
   "metadata": {},
   "outputs": [],
   "source": [
    "import pandas as pd\n",
    "cities = pd.read_csv(datafolder + filename, sep=',', low_memory=False, encoding = 'ISO-8859-1')"
   ]
  },
  {
   "cell_type": "markdown",
   "metadata": {},
   "source": [
    "## Data Manipulation\n",
    "\n",
    "We can take a peek at the data by checking out the final rows of data. Do you see any potential problem with this dataset?"
   ]
  },
  {
   "cell_type": "code",
   "execution_count": 22,
   "metadata": {},
   "outputs": [
    {
     "data": {
      "text/html": [
       "<div>\n",
       "<style scoped>\n",
       "    .dataframe tbody tr th:only-of-type {\n",
       "        vertical-align: middle;\n",
       "    }\n",
       "\n",
       "    .dataframe tbody tr th {\n",
       "        vertical-align: top;\n",
       "    }\n",
       "\n",
       "    .dataframe thead th {\n",
       "        text-align: right;\n",
       "    }\n",
       "</style>\n",
       "<table border=\"1\" class=\"dataframe\">\n",
       "  <thead>\n",
       "    <tr style=\"text-align: right;\">\n",
       "      <th></th>\n",
       "      <th>Country</th>\n",
       "      <th>City</th>\n",
       "      <th>AccentCity</th>\n",
       "      <th>Region</th>\n",
       "      <th>Population</th>\n",
       "      <th>Latitude</th>\n",
       "      <th>Longitude</th>\n",
       "    </tr>\n",
       "  </thead>\n",
       "  <tbody>\n",
       "    <tr>\n",
       "      <th>3173953</th>\n",
       "      <td>zw</td>\n",
       "      <td>zimre park</td>\n",
       "      <td>Zimre Park</td>\n",
       "      <td>04</td>\n",
       "      <td>NaN</td>\n",
       "      <td>-17.866111</td>\n",
       "      <td>31.213611</td>\n",
       "    </tr>\n",
       "    <tr>\n",
       "      <th>3173954</th>\n",
       "      <td>zw</td>\n",
       "      <td>ziyakamanas</td>\n",
       "      <td>Ziyakamanas</td>\n",
       "      <td>00</td>\n",
       "      <td>NaN</td>\n",
       "      <td>-18.216667</td>\n",
       "      <td>27.950000</td>\n",
       "    </tr>\n",
       "    <tr>\n",
       "      <th>3173955</th>\n",
       "      <td>zw</td>\n",
       "      <td>zizalisari</td>\n",
       "      <td>Zizalisari</td>\n",
       "      <td>04</td>\n",
       "      <td>NaN</td>\n",
       "      <td>-17.758889</td>\n",
       "      <td>31.010556</td>\n",
       "    </tr>\n",
       "    <tr>\n",
       "      <th>3173956</th>\n",
       "      <td>zw</td>\n",
       "      <td>zuzumba</td>\n",
       "      <td>Zuzumba</td>\n",
       "      <td>06</td>\n",
       "      <td>NaN</td>\n",
       "      <td>-20.033333</td>\n",
       "      <td>27.933333</td>\n",
       "    </tr>\n",
       "    <tr>\n",
       "      <th>3173957</th>\n",
       "      <td>zw</td>\n",
       "      <td>zvishavane</td>\n",
       "      <td>Zvishavane</td>\n",
       "      <td>07</td>\n",
       "      <td>79876.0</td>\n",
       "      <td>-20.333333</td>\n",
       "      <td>30.033333</td>\n",
       "    </tr>\n",
       "  </tbody>\n",
       "</table>\n",
       "</div>"
      ],
      "text/plain": [
       "        Country         City   AccentCity Region  Population   Latitude  \\\n",
       "3173953      zw   zimre park   Zimre Park     04         NaN -17.866111   \n",
       "3173954      zw  ziyakamanas  Ziyakamanas     00         NaN -18.216667   \n",
       "3173955      zw   zizalisari   Zizalisari     04         NaN -17.758889   \n",
       "3173956      zw      zuzumba      Zuzumba     06         NaN -20.033333   \n",
       "3173957      zw   zvishavane   Zvishavane     07     79876.0 -20.333333   \n",
       "\n",
       "         Longitude  \n",
       "3173953  31.213611  \n",
       "3173954  27.950000  \n",
       "3173955  31.010556  \n",
       "3173956  27.933333  \n",
       "3173957  30.033333  "
      ]
     },
     "execution_count": 22,
     "metadata": {},
     "output_type": "execute_result"
    }
   ],
   "source": [
    "cities.tail(5)"
   ]
  },
  {
   "cell_type": "code",
   "execution_count": 17,
   "metadata": {},
   "outputs": [
    {
     "ename": "AttributeError",
     "evalue": "'DataFrame' object has no attribute 'sort'",
     "output_type": "error",
     "traceback": [
      "\u001b[1;31m---------------------------------------------------------------------------\u001b[0m",
      "\u001b[1;31mAttributeError\u001b[0m                            Traceback (most recent call last)",
      "\u001b[1;32m<ipython-input-17-02b44c4ce1b0>\u001b[0m in \u001b[0;36m<module>\u001b[1;34m()\u001b[0m\n\u001b[1;32m----> 1\u001b[1;33m \u001b[0mcities\u001b[0m\u001b[1;33m.\u001b[0m\u001b[0msort\u001b[0m\u001b[1;33m(\u001b[0m\u001b[0mcolumns\u001b[0m\u001b[1;33m=\u001b[0m\u001b[1;34m'Population'\u001b[0m\u001b[1;33m,\u001b[0m \u001b[0mascending\u001b[0m\u001b[1;33m=\u001b[0m\u001b[1;32mFalse\u001b[0m\u001b[1;33m)\u001b[0m\u001b[1;33m.\u001b[0m\u001b[0mhead\u001b[0m\u001b[1;33m(\u001b[0m\u001b[1;33m)\u001b[0m\u001b[1;33m\u001b[0m\u001b[0m\n\u001b[0m",
      "\u001b[1;32mE:\\Anaconda\\lib\\site-packages\\pandas\\core\\generic.py\u001b[0m in \u001b[0;36m__getattr__\u001b[1;34m(self, name)\u001b[0m\n\u001b[0;32m   4370\u001b[0m             \u001b[1;32mif\u001b[0m \u001b[0mself\u001b[0m\u001b[1;33m.\u001b[0m\u001b[0m_info_axis\u001b[0m\u001b[1;33m.\u001b[0m\u001b[0m_can_hold_identifiers_and_holds_name\u001b[0m\u001b[1;33m(\u001b[0m\u001b[0mname\u001b[0m\u001b[1;33m)\u001b[0m\u001b[1;33m:\u001b[0m\u001b[1;33m\u001b[0m\u001b[0m\n\u001b[0;32m   4371\u001b[0m                 \u001b[1;32mreturn\u001b[0m \u001b[0mself\u001b[0m\u001b[1;33m[\u001b[0m\u001b[0mname\u001b[0m\u001b[1;33m]\u001b[0m\u001b[1;33m\u001b[0m\u001b[0m\n\u001b[1;32m-> 4372\u001b[1;33m             \u001b[1;32mreturn\u001b[0m \u001b[0mobject\u001b[0m\u001b[1;33m.\u001b[0m\u001b[0m__getattribute__\u001b[0m\u001b[1;33m(\u001b[0m\u001b[0mself\u001b[0m\u001b[1;33m,\u001b[0m \u001b[0mname\u001b[0m\u001b[1;33m)\u001b[0m\u001b[1;33m\u001b[0m\u001b[0m\n\u001b[0m\u001b[0;32m   4373\u001b[0m \u001b[1;33m\u001b[0m\u001b[0m\n\u001b[0;32m   4374\u001b[0m     \u001b[1;32mdef\u001b[0m \u001b[0m__setattr__\u001b[0m\u001b[1;33m(\u001b[0m\u001b[0mself\u001b[0m\u001b[1;33m,\u001b[0m \u001b[0mname\u001b[0m\u001b[1;33m,\u001b[0m \u001b[0mvalue\u001b[0m\u001b[1;33m)\u001b[0m\u001b[1;33m:\u001b[0m\u001b[1;33m\u001b[0m\u001b[0m\n",
      "\u001b[1;31mAttributeError\u001b[0m: 'DataFrame' object has no attribute 'sort'"
     ]
    }
   ],
   "source": [
    "cities.sort(columns='Population', ascending=False).head()"
   ]
  },
  {
   "cell_type": "markdown",
   "metadata": {},
   "source": [
    "By sorting the cities on population we immediately see the entries of a few of the largest cities in the world.\n",
    "\n",
    "## Assignment 1a\n",
    "To get an idea of where in the world the cities in the dataset are located, we want to make a scatter plot of the position of all the cities in the dataset.\n",
    "\n",
    "Don't worry about drawing country borders, just plot the locations of the cities.\n",
    "\n",
    "Remember to use all the basic plot elements you need to understand this plot."
   ]
  },
  {
   "cell_type": "code",
   "execution_count": 24,
   "metadata": {},
   "outputs": [
    {
     "data": {
      "text/plain": [
       "<matplotlib.collections.PathCollection at 0x20e01119940>"
      ]
     },
     "execution_count": 24,
     "metadata": {},
     "output_type": "execute_result"
    },
    {
     "data": {
      "image/png": "[encoded data removed]",
      "text/plain": [
       "<Figure size 432x288 with 1 Axes>"
      ]
     },
     "metadata": {},
     "output_type": "display_data"
    }
   ],
   "source": [
    "import numpy as np\n",
    "from matplotlib import pyplot as plt\n",
    "%matplotlib inline \n",
    "\n",
    "plt.figure();\n",
    "\n",
    "## Your code ...\n",
    "\n",
    "x = cities.Latitude\n",
    "y = cities.Longitude\n",
    "\n",
    "plt.scatter(y, x)\n"
   ]
  },
  {
   "cell_type": "markdown",
   "metadata": {},
   "source": [
    "## Assignment 1b\n",
    "\n",
    "Now we want to plot the cities in The Netherlands only. Use a scatter plot again to plot the cities, but now vary the size of the marker and the color with the population of that city.\n",
    "\n",
    "Use a colorbar to show how the color of the marker relates to its population.\n",
    "\n",
    "Use sensible limits to your axes so that you show only mainland The Netherlands (and not the Dutch Antilles)."
   ]
  },
  {
   "cell_type": "code",
   "execution_count": 26,
   "metadata": {},
   "outputs": [
    {
     "data": {
      "text/plain": [
       "<matplotlib.collections.PathCollection at 0x20e273937b8>"
      ]
     },
     "execution_count": 26,
     "metadata": {},
     "output_type": "execute_result"
    },
    {
     "data": {
      "image/png": "[encoded data removed]",
      "text/plain": [
       "<Figure size 504x504 with 1 Axes>"
      ]
     },
     "metadata": {},
     "output_type": "display_data"
    }
   ],
   "source": [
    "dutch_cities = cities[ cities['Country'] =='nl' ]\n",
    "plt.figure(figsize=[7,7]);\n",
    "\n",
    "## Your code ...\n",
    "\n",
    "X = dutch_cities.Latitude\n",
    "Y = dutch_cities.Longitude\n",
    "\n",
    "plt.xlim(3,7.5)#trial and error\n",
    "plt.ylim(50.5,53.6)#trial and error\n",
    "plt.scatter(Y,X)\n"
   ]
  },
  {
   "cell_type": "markdown",
   "metadata": {},
   "source": [
    "## Assignment 1c\n",
    "\n",
    "Using assignment B, we could clearly see larger cities such as Amsterdam, Rotterdam and even Eindhoven. But we still do not really have a clear overview of how many big cities there are. To show a distribution we use a histogram plot.\n",
    "\n",
    "What happens if we do not call the .dropna() function?\n",
    "\n",
    "Add proper basic plot elements to this plot and try to annotate which data point is Amsterdam and Eindhoven."
   ]
  },
  {
   "cell_type": "code",
   "execution_count": 27,
   "metadata": {},
   "outputs": [
    {
     "name": "stderr",
     "output_type": "stream",
     "text": [
      "E:\\Anaconda\\lib\\site-packages\\matplotlib\\axes\\_axes.py:6462: UserWarning: The 'normed' kwarg is deprecated, and has been replaced by the 'density' kwarg.\n",
      "  warnings.warn(\"The 'normed' kwarg is deprecated, and has been \"\n",
      "E:\\Anaconda\\lib\\site-packages\\matplotlib\\cbook\\deprecation.py:107: MatplotlibDeprecationWarning: Adding an axes using the same arguments as a previous axes currently reuses the earlier instance.  In a future version, a new instance will always be created and returned.  Meanwhile, this warning can be suppressed, and the future behavior ensured, by passing a unique label to each axes instance.\n",
      "  warnings.warn(message, mplDeprecation, stacklevel=1)\n"
     ]
    },
    {
     "data": {
      "text/plain": [
       "Text(603.851,0.0015,'Rotterdam: 2032023    603851.0\\nName: Population, dtype: float64')"
      ]
     },
     "execution_count": 27,
     "metadata": {},
     "output_type": "execute_result"
    },
    {
     "data": {
      "image/png": "[encoded data removed]",
      "text/plain": [
       "<Figure size 432x288 with 1 Axes>"
      ]
     },
     "metadata": {},
     "output_type": "display_data"
    }
   ],
   "source": [
    "fig = plt.figure();\n",
    "plt.hist(np.asarray(dutch_cities.dropna().Population/1000), 100, normed=1);\n",
    "\n",
    "## Your code ...\n",
    "amsterdam = dutch_cities[dutch_cities.City == \"amsterdam\"]\n",
    "eindhoven = dutch_cities[dutch_cities.City == \"eindhoven\"]\n",
    "rotterdam = dutch_cities[dutch_cities.City == \"rotterdam\"]\n",
    "\n",
    "\n",
    "ax = fig.add_subplot(111)#111 means 1x1 grid, first subplot\n",
    "plt.grid(True)\n",
    "plt.xlim(200,800) #trial and error\n",
    "plt.ylim(0,0.002) #trial and error\n",
    "plt.title(\"Population size per city\")\n",
    "ax.annotate('Amsterdam: ' + str(amsterdam.Population), xy=(amsterdam.Population/1000, 0.0005), xytext=(amsterdam.Population/1000, 0.0011),\n",
    "            arrowprops=dict(facecolor='black', shrink=0.05),\n",
    "            )\n",
    "ax.annotate('Eindhoven: ' + str(eindhoven.Population), xy=(eindhoven.Population/1000, 0.0005), xytext=(eindhoven.Population/1000, 0.0011),\n",
    "            arrowprops=dict(facecolor='black', shrink=0.05),\n",
    "            )\n",
    "ax.annotate('Rotterdam: ' + str(rotterdam.Population), xy=(rotterdam.Population/1000, 0.0005), xytext=(rotterdam.Population/1000, 0.0015),\n",
    "            arrowprops=dict(facecolor='black', shrink=0.05),\n",
    "            )"
   ]
  },
  {
   "cell_type": "markdown",
   "metadata": {},
   "source": [
    "## Assignment 1d\n",
    "\n",
    "Now we want to compare how the distribution of Dutch cities compares to that of the entire world.\n",
    "\n",
    "Use subplots to show the dutch distribution (top plot) and the world distribution (bottom plot)."
   ]
  },
  {
   "cell_type": "code",
   "execution_count": 29,
   "metadata": {},
   "outputs": [
    {
     "name": "stderr",
     "output_type": "stream",
     "text": [
      "E:\\Anaconda\\lib\\site-packages\\matplotlib\\axes\\_axes.py:6462: UserWarning: The 'normed' kwarg is deprecated, and has been replaced by the 'density' kwarg.\n",
      "  warnings.warn(\"The 'normed' kwarg is deprecated, and has been \"\n"
     ]
    },
    {
     "data": {
      "image/png": "[encoded data removed]",
      "text/plain": [
       "<Figure size 1440x576 with 1 Axes>"
      ]
     },
     "metadata": {},
     "output_type": "display_data"
    },
    {
     "data": {
      "image/png": "[encoded data removed]",
      "text/plain": [
       "<Figure size 1440x576 with 1 Axes>"
      ]
     },
     "metadata": {},
     "output_type": "display_data"
    }
   ],
   "source": [
    "plt.figure(figsize=[20, 8]);\n",
    "plt.subplot(2,1,1);\n",
    "plt.hist(np.asarray(dutch_cities.dropna().Population/1000), bins=np.arange(0, 200, 1), normed=1);\n",
    "\n",
    "# Add the subplot of the world cities below this Dutch one\n",
    "## Your code ...\n",
    "\n",
    "plt.figure(figsize=[20, 8]);\n",
    "plt.subplot(2,1,2);\n",
    "plt.hist(np.asarray(cities.dropna().Population/1000), bins=np.arange(0, 200, 1), normed=1);\n",
    "\n"
   ]
  },
  {
   "cell_type": "markdown",
   "metadata": {},
   "source": [
    "## Assignment 1e\n",
    "\n",
    "Write what conclusions you can deduce from the above plots?"
   ]
  },
  {
   "cell_type": "markdown",
   "metadata": {
    "collapsed": true
   },
   "source": [
    " - It's a lot easier to visualize data for the netherlands than for the entire world.\n",
    " - Annotations are really usefull when you can't visualize things very well\n",
    " - If you dont use dropna to filter the NaN's out you screw up your visualization\n",
    " "
   ]
  }
 ],
 "metadata": {
  "kernelspec": {
   "display_name": "Python 3",
   "language": "python",
   "name": "python3"
  },
  "language_info": {
   "codemirror_mode": {
    "name": "ipython",
    "version": 3
   },
   "file_extension": ".py",
   "mimetype": "text/x-python",
   "name": "python",
   "nbconvert_exporter": "python",
   "pygments_lexer": "ipython3",
   "version": "3.6.5"
  }
 },
 "nbformat": 4,
 "nbformat_minor": 1
}
